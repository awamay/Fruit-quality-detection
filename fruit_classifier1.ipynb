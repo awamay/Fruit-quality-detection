{
  "nbformat": 4,
  "nbformat_minor": 0,
  "metadata": {
    "colab": {
      "name": "fruit_classifier1.ipynb",
      "provenance": []
    },
    "kernelspec": {
      "name": "python3",
      "display_name": "Python 3"
    },
    "accelerator": "GPU"
  },
  "cells": [
    {
      "cell_type": "code",
      "metadata": {
        "id": "H2afoZyQq8we"
      },
      "source": [
        "# Data Manipulation\n",
        "import numpy as np\n",
        "import pandas as pd\n",
        "# Visualisation\n",
        "import matplotlib.pyplot as plt\n",
        "# Dataset exploring\n",
        "import os\n",
        "# Dataset generation\n",
        "from keras.preprocessing import image_dataset_from_directory\n",
        "from keras.preprocessing.image import ImageDataGenerator\n",
        "# Transfert learning\n",
        "from keras.applications import *\n",
        "# Optimizer\n",
        "from keras.optimizers import *\n",
        "# Keras layers\n",
        "from keras.layers import *\n",
        "# Keras model\n",
        "from keras.models import Model\n",
        "\n",
        "from keras.callbacks import ModelCheckpoint, EarlyStopping\n",
        "from keras import backend as k\n",
        "import keras"
      ],
      "execution_count": 3,
      "outputs": []
    },
    {
      "cell_type": "code",
      "metadata": {
        "id": "z4HcJtF0v-HS",
        "colab": {
          "base_uri": "https://localhost:8080/"
        },
        "outputId": "5595c6da-5558-4950-a920-c6226c511ff9"
      },
      "source": [
        "from google.colab import drive\n",
        "drive.mount('/content/gdrive')"
      ],
      "execution_count": 4,
      "outputs": [
        {
          "output_type": "stream",
          "text": [
            "Mounted at /content/gdrive\n"
          ],
          "name": "stdout"
        }
      ]
    },
    {
      "cell_type": "code",
      "metadata": {
        "id": "vqMtYoT3wXmk"
      },
      "source": [
        "import os\n",
        "os.environ['KAGGLE_CONFIG_DIR'] = \"/content/gdrive/My Drive/Kaggle\""
      ],
      "execution_count": 5,
      "outputs": []
    },
    {
      "cell_type": "code",
      "metadata": {
        "id": "Sx_drU9pwZ8Z",
        "colab": {
          "base_uri": "https://localhost:8080/"
        },
        "outputId": "ed9e8db9-4a0f-4d9a-b4e3-8bb291a0b1f4"
      },
      "source": [
        "#changing the working directory\n",
        "%cd /content/gdrive/My Drive/Kaggle\n",
        "#Check the present working directory using pwd command"
      ],
      "execution_count": 6,
      "outputs": [
        {
          "output_type": "stream",
          "text": [
            "/content/gdrive/My Drive/Kaggle\n"
          ],
          "name": "stdout"
        }
      ]
    },
    {
      "cell_type": "code",
      "metadata": {
        "id": "lA-D5w1qwerW",
        "colab": {
          "base_uri": "https://localhost:8080/",
          "height": 35
        },
        "outputId": "9ff583e1-359f-4d21-e5b3-82189cf0a3f1"
      },
      "source": [
        "pwd"
      ],
      "execution_count": 7,
      "outputs": [
        {
          "output_type": "execute_result",
          "data": {
            "application/vnd.google.colaboratory.intrinsic+json": {
              "type": "string"
            },
            "text/plain": [
              "'/content/gdrive/My Drive/Kaggle'"
            ]
          },
          "metadata": {
            "tags": []
          },
          "execution_count": 7
        }
      ]
    },
    {
      "cell_type": "code",
      "metadata": {
        "id": "vzMzHoN8wglz",
        "colab": {
          "base_uri": "https://localhost:8080/"
        },
        "outputId": "b5acb594-b0ae-42a9-8cb1-7f4b9b5f669d"
      },
      "source": [
        "!kaggle datasets download -d sriramr/fruits-fresh-and-rotten-for-classification"
      ],
      "execution_count": null,
      "outputs": [
        {
          "output_type": "stream",
          "text": [
            "fruits-fresh-and-rotten-for-classification.zip: Skipping, found more recently modified local copy (use --force to force download)\n"
          ],
          "name": "stdout"
        }
      ]
    },
    {
      "cell_type": "code",
      "metadata": {
        "id": "Fapy2P-jxa28",
        "colab": {
          "base_uri": "https://localhost:8080/"
        },
        "outputId": "ca5e6dda-a969-4214-e5d8-0b95badd9af3"
      },
      "source": [
        "!ls"
      ],
      "execution_count": 8,
      "outputs": [
        {
          "output_type": "stream",
          "text": [
            "dataset\t\t       fruits-fresh-and-rotten-for-classification.zip\n",
            "fruit_classifier.h5    kaggle.json\n",
            "fruit_classifier.hdf5\n"
          ],
          "name": "stdout"
        }
      ]
    },
    {
      "cell_type": "code",
      "metadata": {
        "id": "SFtjtscUxg0q",
        "colab": {
          "base_uri": "https://localhost:8080/"
        },
        "outputId": "82ac009d-c210-4ab7-f482-abcf6d1c3f02"
      },
      "source": [
        "#unzipping the zip files and deleting the zip files\n",
        "!unzip \\*.zip  && rm *.zip"
      ],
      "execution_count": null,
      "outputs": [
        {
          "output_type": "stream",
          "text": [
            "Archive:  fruits-fresh-and-rotten-for-classification.zip\n",
            "replace dataset/dataset/test/freshapples/Screen Shot 2018-06-08 at 4.59.44 PM.png? [y]es, [n]o, [A]ll, [N]one, [r]ename: "
          ],
          "name": "stdout"
        }
      ]
    },
    {
      "cell_type": "code",
      "metadata": {
        "id": "TryS5zqaxpc3"
      },
      "source": [
        ""
      ],
      "execution_count": null,
      "outputs": []
    },
    {
      "cell_type": "code",
      "metadata": {
        "id": "jhCnSMPKq9-c",
        "colab": {
          "base_uri": "https://localhost:8080/"
        },
        "outputId": "eb6c415c-3a0d-4227-a006-5ea4502843ca"
      },
      "source": [
        "classes = []\n",
        "class_counter = 0\n",
        "\n",
        "for dirname, _, filenames in os.walk('/content/gdrive/My Drive/Kaggle/dataset/train/'):\n",
        "    if dirname.endswith('/'):\n",
        "        continue\n",
        "    else:\n",
        "        classes.append({dirname.split('/')[-1]: 0})\n",
        "    file_count = 0\n",
        "    for filename in filenames:\n",
        "        file_count += 1\n",
        "    classes[class_counter][dirname.split('/')[-1]] = file_count\n",
        "    class_counter += 1\n",
        "    \n",
        "print('{:<15} {:<15}'.format('Class', 'Number of instances'))\n",
        "print()\n",
        "for d in classes:\n",
        "    [(k, v)] = d.items()\n",
        "    print('{:<15} {:<15}'.format(k, v))"
      ],
      "execution_count": null,
      "outputs": [
        {
          "output_type": "stream",
          "text": [
            "Class           Number of instances\n",
            "\n",
            "freshapples     1693           \n",
            "freshbanana     1581           \n",
            "freshoranges    1466           \n",
            "rottenapples    2342           \n",
            "rottenbanana    2224           \n",
            "rottenoranges   1595           \n"
          ],
          "name": "stdout"
        }
      ]
    },
    {
      "cell_type": "code",
      "metadata": {
        "id": "eIE0C2iA0OZ8",
        "colab": {
          "base_uri": "https://localhost:8080/",
          "height": 315
        },
        "outputId": "f62d4ceb-7ee3-49e9-ed5d-494b205c710a"
      },
      "source": [
        "counts = []\n",
        "labels = []\n",
        "for d in classes:\n",
        "    [(k, v)] = d.items()\n",
        "    labels.append(k)\n",
        "    counts.append(v)\n",
        "\n",
        "plt.figure()\n",
        "plt.bar(range(len(counts)), counts, color = ['yellow', 'orange', 'orange', 'green', 'green', 'yellow'], alpha = .7)\n",
        "plt.xticks(range(len(counts)), labels, rotation = 30)\n",
        "plt.title('Count of each label in our training data')\n",
        "plt.show()"
      ],
      "execution_count": null,
      "outputs": [
        {
          "output_type": "display_data",
          "data": {
            "image/png": "[encoded data removed]",
            "text/plain": [
              "<Figure size 432x288 with 1 Axes>"
            ]
          },
          "metadata": {
            "tags": [],
            "needs_background": "light"
          }
        }
      ]
    },
    {
      "cell_type": "code",
      "metadata": {
        "id": "qKGOYqyz0zBb",
        "colab": {
          "base_uri": "https://localhost:8080/"
        },
        "outputId": "ceebcf82-1547-4e8e-dd4a-b3f1f7242e5b"
      },
      "source": [
        "from tensorflow import keras\n",
        "\n",
        "base_model = keras.applications.VGG16(\n",
        "    weights='imagenet',\n",
        "    input_shape=(224, 224, 3),\n",
        "    include_top=False)"
      ],
      "execution_count": null,
      "outputs": [
        {
          "output_type": "stream",
          "text": [
            "Downloading data from https://storage.googleapis.com/tensorflow/keras-applications/vgg16/vgg16_weights_tf_dim_ordering_tf_kernels_notop.h5\n",
            "58892288/58889256 [==============================] - 0s 0us/step\n"
          ],
          "name": "stdout"
        }
      ]
    },
    {
      "cell_type": "code",
      "metadata": {
        "id": "zfDfa8P426ud",
        "colab": {
          "base_uri": "https://localhost:8080/"
        },
        "outputId": "d5c7fbc8-ef18-46db-cc19-56a4428120eb"
      },
      "source": [
        "base_model.summary()"
      ],
      "execution_count": null,
      "outputs": [
        {
          "output_type": "stream",
          "text": [
            "Model: \"vgg16\"\n",
            "_________________________________________________________________\n",
            "Layer (type)                 Output Shape              Param #   \n",
            "=================================================================\n",
            "input_1 (InputLayer)         [(None, 224, 224, 3)]     0         \n",
            "_________________________________________________________________\n",
            "block1_conv1 (Conv2D)        (None, 224, 224, 64)      1792      \n",
            "_________________________________________________________________\n",
            "block1_conv2 (Conv2D)        (None, 224, 224, 64)      36928     \n",
            "_________________________________________________________________\n",
            "block1_pool (MaxPooling2D)   (None, 112, 112, 64)      0         \n",
            "_________________________________________________________________\n",
            "block2_conv1 (Conv2D)        (None, 112, 112, 128)     73856     \n",
            "_________________________________________________________________\n",
            "block2_conv2 (Conv2D)        (None, 112, 112, 128)     147584    \n",
            "_________________________________________________________________\n",
            "block2_pool (MaxPooling2D)   (None, 56, 56, 128)       0         \n",
            "_________________________________________________________________\n",
            "block3_conv1 (Conv2D)        (None, 56, 56, 256)       295168    \n",
            "_________________________________________________________________\n",
            "block3_conv2 (Conv2D)        (None, 56, 56, 256)       590080    \n",
            "_________________________________________________________________\n",
            "block3_conv3 (Conv2D)        (None, 56, 56, 256)       590080    \n",
            "_________________________________________________________________\n",
            "block3_pool (MaxPooling2D)   (None, 28, 28, 256)       0         \n",
            "_________________________________________________________________\n",
            "block4_conv1 (Conv2D)        (None, 28, 28, 512)       1180160   \n",
            "_________________________________________________________________\n",
            "block4_conv2 (Conv2D)        (None, 28, 28, 512)       2359808   \n",
            "_________________________________________________________________\n",
            "block4_conv3 (Conv2D)        (None, 28, 28, 512)       2359808   \n",
            "_________________________________________________________________\n",
            "block4_pool (MaxPooling2D)   (None, 14, 14, 512)       0         \n",
            "_________________________________________________________________\n",
            "block5_conv1 (Conv2D)        (None, 14, 14, 512)       2359808   \n",
            "_________________________________________________________________\n",
            "block5_conv2 (Conv2D)        (None, 14, 14, 512)       2359808   \n",
            "_________________________________________________________________\n",
            "block5_conv3 (Conv2D)        (None, 14, 14, 512)       2359808   \n",
            "_________________________________________________________________\n",
            "block5_pool (MaxPooling2D)   (None, 7, 7, 512)         0         \n",
            "=================================================================\n",
            "Total params: 14,714,688\n",
            "Trainable params: 14,714,688\n",
            "Non-trainable params: 0\n",
            "_________________________________________________________________\n"
          ],
          "name": "stdout"
        }
      ]
    },
    {
      "cell_type": "code",
      "metadata": {
        "id": "DM9j8R732-gT"
      },
      "source": [
        "# Freeze base model\n",
        "base_model.trainable = False"
      ],
      "execution_count": null,
      "outputs": []
    },
    {
      "cell_type": "code",
      "metadata": {
        "id": "6huPDA0a3BzT"
      },
      "source": [
        "from keras.models import Model\n",
        "from keras.layers import *\n",
        "\n",
        "# Create inputs with correct shape\n",
        "inputs = Input(shape=(224, 224, 3))\n",
        "\n",
        "x = base_model(inputs, training=False)\n",
        "\n",
        "# Add pooling layer or flatten layer\n",
        "x = Flatten()(x)\n",
        "\n",
        "# Add a hidden layer\n",
        "x = Dense(256, activation='relu')(x)\n",
        "\n",
        "# Add a dropout layer\n",
        "x = Dropout(.5)(x)\n",
        "\n",
        "# Add final dense layer\n",
        "outputs = Dense(6, activation = 'softmax')(x)\n",
        "\n",
        "# Combine inputs and outputs to create model\n",
        "model = Model(inputs, outputs)"
      ],
      "execution_count": null,
      "outputs": []
    },
    {
      "cell_type": "code",
      "metadata": {
        "id": "dAVcypeu3E5w",
        "colab": {
          "base_uri": "https://localhost:8080/"
        },
        "outputId": "054d337f-d262-4a81-e0fe-de98bf37d86c"
      },
      "source": [
        "model.summary()"
      ],
      "execution_count": null,
      "outputs": [
        {
          "output_type": "stream",
          "text": [
            "Model: \"model\"\n",
            "_________________________________________________________________\n",
            "Layer (type)                 Output Shape              Param #   \n",
            "=================================================================\n",
            "input_2 (InputLayer)         [(None, 224, 224, 3)]     0         \n",
            "_________________________________________________________________\n",
            "vgg16 (Functional)           (None, 7, 7, 512)         14714688  \n",
            "_________________________________________________________________\n",
            "flatten (Flatten)            (None, 25088)             0         \n",
            "_________________________________________________________________\n",
            "dense (Dense)                (None, 256)               6422784   \n",
            "_________________________________________________________________\n",
            "dropout (Dropout)            (None, 256)               0         \n",
            "_________________________________________________________________\n",
            "dense_1 (Dense)              (None, 6)                 1542      \n",
            "=================================================================\n",
            "Total params: 21,139,014\n",
            "Trainable params: 6,424,326\n",
            "Non-trainable params: 14,714,688\n",
            "_________________________________________________________________\n"
          ],
          "name": "stdout"
        }
      ]
    },
    {
      "cell_type": "code",
      "metadata": {
        "id": "NkdacXXf3I6N"
      },
      "source": [
        "model.compile(loss='categorical_crossentropy',\n",
        "              metrics=[\"accuracy\"],\n",
        "             optimizer = 'nadam')"
      ],
      "execution_count": null,
      "outputs": []
    },
    {
      "cell_type": "code",
      "metadata": {
        "id": "gVEUaZrY3Jmk"
      },
      "source": [
        "from tensorflow.keras.preprocessing.image import ImageDataGenerator\n",
        "\n",
        "transformation_ratio = 0.05\n",
        "\n",
        "datagen = ImageDataGenerator(rescale=1. / 255,\n",
        "                             validation_split = 0.2,\n",
        "                             rotation_range=transformation_ratio,\n",
        "                             shear_range=transformation_ratio,\n",
        "                             zoom_range=transformation_ratio,\n",
        "                             cval=transformation_ratio,\n",
        "                             horizontal_flip=True,\n",
        "                             vertical_flip=True)"
      ],
      "execution_count": 47,
      "outputs": []
    },
    {
      "cell_type": "code",
      "metadata": {
        "id": "VwXXHrVp3NX1",
        "colab": {
          "base_uri": "https://localhost:8080/"
        },
        "outputId": "18b20184-0df7-4b76-c782-c3bb0a77c49b"
      },
      "source": [
        "# load and iterate training dataset\n",
        "train_it = datagen.flow_from_directory(\"/content/gdrive/My Drive/Kaggle/dataset/train\", \n",
        "                                       target_size=(224,224), \n",
        "                                       color_mode='rgb', \n",
        "                                       class_mode=\"categorical\",\n",
        "                                       batch_size=12,\n",
        "                                       subset = \"training\")\n",
        "\n",
        "# Validation Data\n",
        "val_it = datagen.flow_from_directory(\"/content/gdrive/My Drive/Kaggle/dataset/train\",\n",
        "                                     target_size=(224,224),\n",
        "                                     color_mode='rgb',\n",
        "                                     class_mode=\"categorical\",\n",
        "                                     batch_size=12,\n",
        "                                     subset='validation')\n",
        "\n",
        "# load and iterate test dataset\n",
        "test_it = datagen.flow_from_directory(\"/content/gdrive/My Drive/Kaggle/dataset/test\", \n",
        "                                      target_size=(224,224), \n",
        "                                      color_mode='rgb', \n",
        "                                      class_mode=\"categorical\")"
      ],
      "execution_count": 48,
      "outputs": [
        {
          "output_type": "stream",
          "text": [
            "Found 8723 images belonging to 6 classes.\n",
            "Found 2178 images belonging to 6 classes.\n",
            "Found 2698 images belonging to 6 classes.\n"
          ],
          "name": "stdout"
        }
      ]
    },
    {
      "cell_type": "code",
      "metadata": {
        "id": "UVi846vk3oi3",
        "colab": {
          "base_uri": "https://localhost:8080/"
        },
        "outputId": "6a632fa7-63ec-44c3-f5a6-19c87fbd42f2"
      },
      "source": [
        "history = model.fit_generator(generator = train_it,\n",
        "                              steps_per_epoch=train_it.samples/train_it.batch_size,\n",
        "                              epochs=16,\n",
        "                              validation_data=val_it,\n",
        "                              valid+ation_steps=test_it.samples/test_it.batch_size,\n",
        ")"
      ],
      "execution_count": null,
      "outputs": [
        {
          "output_type": "stream",
          "text": [
            "/usr/local/lib/python3.6/dist-packages/tensorflow/python/keras/engine/training.py:1844: UserWarning: `Model.fit_generator` is deprecated and will be removed in a future version. Please use `Model.fit`, which supports generators.\n",
            "  warnings.warn('`Model.fit_generator` is deprecated and '\n"
          ],
          "name": "stderr"
        },
        {
          "output_type": "stream",
          "text": [
            "Epoch 1/16\n",
            "726/726 [==============================] - 3010s 4s/step - loss: 0.6461 - accuracy: 0.7521 - val_loss: 0.2372 - val_accuracy: 0.9157\n",
            "Epoch 2/16\n",
            "726/726 [==============================] - 346s 477ms/step - loss: 0.4418 - accuracy: 0.8326 - val_loss: 0.1276 - val_accuracy: 0.9608\n",
            "Epoch 3/16\n",
            "726/726 [==============================] - 262s 361ms/step - loss: 0.3791 - accuracy: 0.8511 - val_loss: 0.1094 - val_accuracy: 0.9627\n",
            "Epoch 4/16\n",
            "727/726 [==============================] - ETA: 0s - loss: 0.3553 - accuracy: 0.8603Epoch 5/16\n",
            "726/726 [==============================] - 193s 265ms/step - loss: 0.3198 - accuracy: 0.8756 - val_loss: 0.0937 - val_accuracy: 0.9618\n",
            "Epoch 6/16\n",
            "726/726 [==============================] - 180s 248ms/step - loss: 0.3074 - accuracy: 0.8770 - val_loss: 0.0887 - val_accuracy: 0.9686\n",
            "Epoch 7/16\n",
            "726/726 [==============================] - 176s 242ms/step - loss: 0.2931 - accuracy: 0.8858 - val_loss: 0.0966 - val_accuracy: 0.9588\n",
            "Epoch 8/16\n",
            "726/726 [==============================] - 168s 231ms/step - loss: 0.2725 - accuracy: 0.8906 - val_loss: 0.0850 - val_accuracy: 0.9824\n",
            "Epoch 9/16\n",
            "726/726 [==============================] - 167s 230ms/step - loss: 0.2662 - accuracy: 0.8920 - val_loss: 0.0685 - val_accuracy: 0.9775\n",
            "Epoch 10/16\n",
            "726/726 [==============================] - 166s 228ms/step - loss: 0.2713 - accuracy: 0.8926 - val_loss: 0.0636 - val_accuracy: 0.9784\n",
            "Epoch 11/16\n",
            "726/726 [==============================] - 165s 227ms/step - loss: 0.2406 - accuracy: 0.9031 - val_loss: 0.0518 - val_accuracy: 0.9765\n",
            "Epoch 12/16\n",
            "726/726 [==============================] - 165s 227ms/step - loss: 0.2390 - accuracy: 0.9059 - val_loss: 0.0527 - val_accuracy: 0.9833\n",
            "Epoch 13/16\n",
            "726/726 [==============================] - 164s 226ms/step - loss: 0.2255 - accuracy: 0.9097 - val_loss: 0.0434 - val_accuracy: 0.9863\n",
            "Epoch 14/16\n",
            "726/726 [==============================] - 163s 224ms/step - loss: 0.2226 - accuracy: 0.9140 - val_loss: 0.0875 - val_accuracy: 0.9725\n",
            "Epoch 15/16\n",
            "726/726 [==============================] - 163s 224ms/step - loss: 0.2217 - accuracy: 0.9120 - val_loss: 0.0351 - val_accuracy: 0.9892\n",
            "Epoch 16/16\n",
            "726/726 [==============================] - 162s 223ms/step - loss: 0.2143 - accuracy: 0.9156 - val_loss: 0.0525 - val_accuracy: 0.9755\n"
          ],
          "name": "stdout"
        }
      ]
    },
    {
      "cell_type": "code",
      "metadata": {
        "colab": {
          "base_uri": "https://localhost:8080/"
        },
        "id": "H5eiTYtCnhMi",
        "outputId": "2cee69a0-b4af-4d6f-f368-687fa5740eb9"
      },
      "source": [
        "!nvidia-smi"
      ],
      "execution_count": null,
      "outputs": [
        {
          "output_type": "stream",
          "text": [
            "Mon Dec 21 18:46:03 2020       \n",
            "+-----------------------------------------------------------------------------+\n",
            "| NVIDIA-SMI 455.45.01    Driver Version: 418.67       CUDA Version: 10.1     |\n",
            "|-------------------------------+----------------------+----------------------+\n",
            "| GPU  Name        Persistence-M| Bus-Id        Disp.A | Volatile Uncorr. ECC |\n",
            "| Fan  Temp  Perf  Pwr:Usage/Cap|         Memory-Usage | GPU-Util  Compute M. |\n",
            "|                               |                      |               MIG M. |\n",
            "|===============================+======================+======================|\n",
            "|   0  Tesla T4            Off  | 00000000:00:04.0 Off |                    0 |\n",
            "| N/A   72C    P0    32W /  70W |   8807MiB / 15079MiB |      0%      Default |\n",
            "|                               |                      |                 ERR! |\n",
            "+-------------------------------+----------------------+----------------------+\n",
            "                                                                               \n",
            "+-----------------------------------------------------------------------------+\n",
            "| Processes:                                                                  |\n",
            "|  GPU   GI   CI        PID   Type   Process name                  GPU Memory |\n",
            "|        ID   ID                                                   Usage      |\n",
            "|=============================================================================|\n",
            "|  No running processes found                                                 |\n",
            "+-----------------------------------------------------------------------------+\n"
          ],
          "name": "stdout"
        }
      ]
    },
    {
      "cell_type": "markdown",
      "metadata": {
        "id": "IOkvJWXmVEZO"
      },
      "source": [
        "#Evaluating model"
      ]
    },
    {
      "cell_type": "code",
      "metadata": {
        "id": "cKvBDPsx37D_"
      },
      "source": [
        "import matplotlib.pyplot as plt"
      ],
      "execution_count": null,
      "outputs": []
    },
    {
      "cell_type": "code",
      "metadata": {
        "colab": {
          "base_uri": "https://localhost:8080/",
          "height": 312
        },
        "id": "0588K-1IVHkL",
        "outputId": "3ac0cfc1-bd35-4865-dd06-878c9dee29d8"
      },
      "source": [
        "plt.plot(history.history['accuracy'])\n",
        "plt.plot(history.history['val_accuracy'])\n",
        "plt.title('Model Accuracy')\n",
        "plt.xlabel('Epochs')\n",
        "plt.ylabel('Accuracy')\n",
        "plt.legend(['Acc','Val'], loc = 'upper left')\n"
      ],
      "execution_count": null,
      "outputs": [
        {
          "output_type": "execute_result",
          "data": {
            "text/plain": [
              "<matplotlib.legend.Legend at 0x7f3d40084080>"
            ]
          },
          "metadata": {
            "tags": []
          },
          "execution_count": 25
        },
        {
          "output_type": "display_data",
          "data": {
            "image/png": "[encoded data removed]",
            "text/plain": [
              "<Figure size 432x288 with 1 Axes>"
            ]
          },
          "metadata": {
            "tags": [],
            "needs_background": "light"
          }
        }
      ]
    },
    {
      "cell_type": "code",
      "metadata": {
        "colab": {
          "base_uri": "https://localhost:8080/",
          "height": 312
        },
        "id": "prLaJtDPVSyT",
        "outputId": "41897efe-5b1a-41ae-f32c-efa6836689c3"
      },
      "source": [
        "plt.plot(history.history['loss'])\n",
        "plt.plot(history.history['val_loss'])\n",
        "plt.title('Model Loss')\n",
        "plt.xlabel('Epochs')\n",
        "plt.ylabel('Loss')\n",
        "plt.legend(['loss','Val'], loc = 'upper left')"
      ],
      "execution_count": null,
      "outputs": [
        {
          "output_type": "execute_result",
          "data": {
            "text/plain": [
              "<matplotlib.legend.Legend at 0x7f3cf7ed2a90>"
            ]
          },
          "metadata": {
            "tags": []
          },
          "execution_count": 26
        },
        {
          "output_type": "display_data",
          "data": {
            "image/png": "[encoded data removed]",
            "text/plain": [
              "<Figure size 432x288 with 1 Axes>"
            ]
          },
          "metadata": {
            "tags": [],
            "needs_background": "light"
          }
        }
      ]
    },
    {
      "cell_type": "code",
      "metadata": {
        "colab": {
          "base_uri": "https://localhost:8080/"
        },
        "id": "yiHxkxbKVJs8",
        "outputId": "3464c4db-f428-4d48-e8a2-0a88dfff2f33"
      },
      "source": [
        "model.evaluate(test_it, steps=test_it.samples/test_it.batch_size)"
      ],
      "execution_count": null,
      "outputs": [
        {
          "output_type": "stream",
          "text": [
            "84/84 [==============================] - 850s 10s/step - loss: 0.0714 - accuracy: 0.9755\n"
          ],
          "name": "stdout"
        },
        {
          "output_type": "execute_result",
          "data": {
            "text/plain": [
              "[0.0714406967163086, 0.9755374193191528]"
            ]
          },
          "metadata": {
            "tags": []
          },
          "execution_count": 27
        }
      ]
    },
    {
      "cell_type": "code",
      "metadata": {
        "id": "6BkhIKNxVXoV"
      },
      "source": [
        "model.save('./fruit_classifier.h5')"
      ],
      "execution_count": null,
      "outputs": []
    },
    {
      "cell_type": "code",
      "metadata": {
        "id": "xsrc9w3KCmez"
      },
      "source": [
        "model.save('./fruit_classifier.hdf5')"
      ],
      "execution_count": null,
      "outputs": []
    },
    {
      "cell_type": "code",
      "metadata": {
        "id": "PJPFaVuqY4on"
      },
      "source": [
        "from keras.models import Model, load_model"
      ],
      "execution_count": 9,
      "outputs": []
    },
    {
      "cell_type": "code",
      "metadata": {
        "id": "FYriWTi9bPL-"
      },
      "source": [
        "new_model=load_model('./fruit_classifier.h5')"
      ],
      "execution_count": 10,
      "outputs": []
    },
    {
      "cell_type": "code",
      "metadata": {
        "id": "3LE9kqCysgCt"
      },
      "source": [
        "new_model1=load_model('./fruit_classifier_org.h5')"
      ],
      "execution_count": 101,
      "outputs": []
    },
    {
      "cell_type": "code",
      "metadata": {
        "id": "XMD-n07PhxeT"
      },
      "source": [
        "from tqdm import tqdm\n",
        "import cv2\n",
        "from random import shuffle"
      ],
      "execution_count": 29,
      "outputs": []
    },
    {
      "cell_type": "code",
      "metadata": {
        "id": "no50zDl3gmtx"
      },
      "source": [
        "def load_rottenvsfresh_valset():\n",
        "    quality=['fresh', 'rotten']\n",
        "    X,Y=[],[]\n",
        "    z=[]\n",
        "    for cata in tqdm(os.listdir('/content/gdrive/My Drive/Kaggle/dataset/test')):\n",
        "        if quality[0] in cata:\n",
        "            path_main=os.path.join('/content/gdrive/My Drive/Kaggle/dataset/test',cata)\n",
        "            for img_name in os.listdir(path_main):\n",
        "                img=cv2.imread(os.path.join(path_main,img_name))\n",
        "                img=cv2.resize(img,(224,224))\n",
        "                img=cv2.cvtColor(img,cv2.COLOR_BGR2RGB)\n",
        "                z.append([img,0])\n",
        "        else:\n",
        "            path_main=os.path.join('/content/gdrive/My Drive/Kaggle/dataset/test',cata)\n",
        "            for img_name in os.listdir(path_main):\n",
        "                img=cv2.imread(os.path.join(path_main,img_name))\n",
        "                img=cv2.resize(img,(224,224))\n",
        "                img=cv2.cvtColor(img,cv2.COLOR_BGR2RGB)\n",
        "                z.append([img,1])\n",
        "    print('Shuffling your data.....')\n",
        "    shuffle(z)\n",
        "    for images, labels in tqdm(z):\n",
        "        X.append(images);Y.append(labels)\n",
        "    return X,Y   "
      ],
      "execution_count": 41,
      "outputs": []
    },
    {
      "cell_type": "code",
      "metadata": {
        "id": "ahxXwVjohTMW",
        "outputId": "710a3cbc-2f34-4a34-aeba-6fb1a5aef5cb",
        "colab": {
          "base_uri": "https://localhost:8080/"
        }
      },
      "source": [
        "X_val,Y_val=load_rottenvsfresh_valset()"
      ],
      "execution_count": 42,
      "outputs": [
        {
          "output_type": "stream",
          "text": [
            "100%|██████████| 6/6 [00:16<00:00,  2.68s/it]\n",
            "100%|██████████| 2698/2698 [00:00<00:00, 1141324.48it/s]"
          ],
          "name": "stderr"
        },
        {
          "output_type": "stream",
          "text": [
            "Shuffling your data.....\n"
          ],
          "name": "stdout"
        },
        {
          "output_type": "stream",
          "text": [
            "\n"
          ],
          "name": "stderr"
        }
      ]
    },
    {
      "cell_type": "code",
      "metadata": {
        "id": "gxHTqiiemSXC",
        "outputId": "c29108b1-4d28-4e7d-d075-9af7acfeab32",
        "colab": {
          "base_uri": "https://localhost:8080/"
        }
      },
      "source": [
        "Y_val=np.array(Y_val)\n",
        "X_val=np.array(X_val)\n",
        "y_ser=pd.Series(Y_val)\n",
        "y_ser.value_counts()"
      ],
      "execution_count": 39,
      "outputs": [
        {
          "output_type": "execute_result",
          "data": {
            "text/plain": [
              "1    1534\n",
              "0    1164\n",
              "dtype: int64"
            ]
          },
          "metadata": {
            "tags": []
          },
          "execution_count": 39
        }
      ]
    },
    {
      "cell_type": "code",
      "metadata": {
        "id": "2Aeb2_cbm-Kl",
        "outputId": "c63b461c-90e8-4c5a-9476-a7ecd0b6fe27",
        "colab": {
          "base_uri": "https://localhost:8080/",
          "height": 286
        }
      },
      "source": [
        "plt.imshow(X_val[10])"
      ],
      "execution_count": 127,
      "outputs": [
        {
          "output_type": "execute_result",
          "data": {
            "text/plain": [
              "<matplotlib.image.AxesImage at 0x7f00b812b710>"
            ]
          },
          "metadata": {
            "tags": []
          },
          "execution_count": 127
        },
        {
          "output_type": "display_data",
          "data": {
            "image/png": "[encoded data removed]",
            "text/plain": [
              "<Figure size 432x288 with 1 Axes>"
            ]
          },
          "metadata": {
            "tags": [],
            "needs_background": "light"
          }
        }
      ]
    },
    {
      "cell_type": "code",
      "metadata": {
        "id": "0YxJWgzMni1O",
        "outputId": "5bb3b4a8-aa68-4831-ee7f-c3a6b4adc002",
        "colab": {
          "base_uri": "https://localhost:8080/"
        }
      },
      "source": [
        "new_model1.evaluate(test_it, steps=test_it.samples/test_it.batch_size)"
      ],
      "execution_count": 103,
      "outputs": [
        {
          "output_type": "stream",
          "text": [
            "84/84 [==============================] - 40s 471ms/step - loss: 0.0922 - accuracy: 0.9681\n"
          ],
          "name": "stdout"
        },
        {
          "output_type": "execute_result",
          "data": {
            "text/plain": [
              "[0.09224318712949753, 0.968124508857727]"
            ]
          },
          "metadata": {
            "tags": []
          },
          "execution_count": 103
        }
      ]
    },
    {
      "cell_type": "code",
      "metadata": {
        "id": "RtdxsnYBnD5A",
        "outputId": "212ad7f5-da87-450b-81a4-b59f6656ee8f",
        "colab": {
          "base_uri": "https://localhost:8080/"
        }
      },
      "source": [
        "new_model1.predict(X_val[10].reshape(1,224,224,3))"
      ],
      "execution_count": 128,
      "outputs": [
        {
          "output_type": "execute_result",
          "data": {
            "text/plain": [
              "array([[1., 0., 0., 0., 0., 0.]], dtype=float32)"
            ]
          },
          "metadata": {
            "tags": []
          },
          "execution_count": 128
        }
      ]
    },
    {
      "cell_type": "code",
      "metadata": {
        "id": "O36xThYhmVba"
      },
      "source": [
        ""
      ],
      "execution_count": null,
      "outputs": []
    }
  ]
}